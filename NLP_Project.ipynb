{
  "nbformat": 4,
  "nbformat_minor": 0,
  "metadata": {
    "colab": {
      "name": "NLP_Project.ipynb",
      "provenance": [],
      "collapsed_sections": []
    },
    "kernelspec": {
      "name": "python3",
      "display_name": "Python 3"
    },
    "language_info": {
      "name": "python"
    }
  },
  "cells": [
    {
      "cell_type": "markdown",
      "metadata": {
        "id": "OWx5fROtlbYr"
      },
      "source": [
        "Install Needed Libraries "
      ]
    },
    {
      "cell_type": "code",
      "metadata": {
        "id": "g1Hi89b5lgXL",
        "colab": {
          "base_uri": "https://localhost:8080/"
        },
        "outputId": "7ddb0943-5206-470f-e395-43f018b921b1"
      },
      "source": [
        "!pip install pytube\n",
        "!pip install youtube_transcript_api"
      ],
      "execution_count": null,
      "outputs": [
        {
          "output_type": "stream",
          "name": "stdout",
          "text": [
            "Collecting pytube\n",
            "  Downloading pytube-11.0.1-py3-none-any.whl (56 kB)\n",
            "\u001b[?25l\r\u001b[K     |█████▉                          | 10 kB 20.0 MB/s eta 0:00:01\r\u001b[K     |███████████▋                    | 20 kB 14.6 MB/s eta 0:00:01\r\u001b[K     |█████████████████▌              | 30 kB 10.1 MB/s eta 0:00:01\r\u001b[K     |███████████████████████▎        | 40 kB 9.2 MB/s eta 0:00:01\r\u001b[K     |█████████████████████████████▏  | 51 kB 5.0 MB/s eta 0:00:01\r\u001b[K     |████████████████████████████████| 56 kB 2.1 MB/s \n",
            "\u001b[?25hInstalling collected packages: pytube\n",
            "Successfully installed pytube-11.0.1\n",
            "Collecting youtube_transcript_api\n",
            "  Downloading youtube_transcript_api-0.4.1-py3-none-any.whl (22 kB)\n",
            "Requirement already satisfied: requests in /usr/local/lib/python3.7/dist-packages (from youtube_transcript_api) (2.23.0)\n",
            "Requirement already satisfied: idna<3,>=2.5 in /usr/local/lib/python3.7/dist-packages (from requests->youtube_transcript_api) (2.10)\n",
            "Requirement already satisfied: urllib3!=1.25.0,!=1.25.1,<1.26,>=1.21.1 in /usr/local/lib/python3.7/dist-packages (from requests->youtube_transcript_api) (1.24.3)\n",
            "Requirement already satisfied: certifi>=2017.4.17 in /usr/local/lib/python3.7/dist-packages (from requests->youtube_transcript_api) (2021.5.30)\n",
            "Requirement already satisfied: chardet<4,>=3.0.2 in /usr/local/lib/python3.7/dist-packages (from requests->youtube_transcript_api) (3.0.4)\n",
            "Installing collected packages: youtube-transcript-api\n",
            "Successfully installed youtube-transcript-api-0.4.1\n"
          ]
        }
      ]
    },
    {
      "cell_type": "markdown",
      "metadata": {
        "id": "_dN0ITtBlUG8"
      },
      "source": [
        "Import Needed Libraries"
      ]
    },
    {
      "cell_type": "code",
      "metadata": {
        "id": "kxZbWzslj37p",
        "colab": {
          "base_uri": "https://localhost:8080/"
        },
        "outputId": "1e2228b3-0634-48c3-efc8-e2bf525e16a2"
      },
      "source": [
        "import json\n",
        "import re\n",
        "import os\n",
        "import sys\n",
        "import urllib.request\n",
        "import requests\n",
        "from pytube import YouTube\n",
        "from youtube_transcript_api import YouTubeTranscriptApi\n",
        "from moviepy.editor import *\n",
        "from bs4 import BeautifulSoup  "
      ],
      "execution_count": null,
      "outputs": [
        {
          "output_type": "stream",
          "name": "stdout",
          "text": [
            "Imageio: 'ffmpeg-linux64-v3.3.1' was not found on your computer; downloading it now.\n",
            "Try 1. Download from https://github.com/imageio/imageio-binaries/raw/master/ffmpeg/ffmpeg-linux64-v3.3.1 (43.8 MB)\n",
            "Downloading: 8192/45929032 bytes (0.0%)\b\b\b\b\b\b\b\b\b\b\b\b\b\b\b\b\b\b\b\b\b\b\b\b\b\b3424256/45929032 bytes (7.5%)\b\b\b\b\b\b\b\b\b\b\b\b\b\b\b\b\b\b\b\b\b\b\b\b\b\b\b\b\b6979584/45929032 bytes (15.2%)\b\b\b\b\b\b\b\b\b\b\b\b\b\b\b\b\b\b\b\b\b\b\b\b\b\b\b\b\b\b10215424/45929032 bytes (22.2%)\b\b\b\b\b\b\b\b\b\b\b\b\b\b\b\b\b\b\b\b\b\b\b\b\b\b\b\b\b\b\b13639680/45929032 bytes (29.7%)\b\b\b\b\b\b\b\b\b\b\b\b\b\b\b\b\b\b\b\b\b\b\b\b\b\b\b\b\b\b\b16916480/45929032 bytes (36.8%)\b\b\b\b\b\b\b\b\b\b\b\b\b\b\b\b\b\b\b\b\b\b\b\b\b\b\b\b\b\b\b20406272/45929032 bytes (44.4%)\b\b\b\b\b\b\b\b\b\b\b\b\b\b\b\b\b\b\b\b\b\b\b\b\b\b\b\b\b\b\b23994368/45929032 bytes (52.2%)\b\b\b\b\b\b\b\b\b\b\b\b\b\b\b\b\b\b\b\b\b\b\b\b\b\b\b\b\b\b\b27295744/45929032 bytes (59.4%)\b\b\b\b\b\b\b\b\b\b\b\b\b\b\b\b\b\b\b\b\b\b\b\b\b\b\b\b\b\b\b30916608/45929032 bytes (67.3%)\b\b\b\b\b\b\b\b\b\b\b\b\b\b\b\b\b\b\b\b\b\b\b\b\b\b\b\b\b\b\b34398208/45929032 bytes (74.9%)\b\b\b\b\b\b\b\b\b\b\b\b\b\b\b\b\b\b\b\b\b\b\b\b\b\b\b\b\b\b\b37912576/45929032 bytes (82.5%)\b\b\b\b\b\b\b\b\b\b\b\b\b\b\b\b\b\b\b\b\b\b\b\b\b\b\b\b\b\b\b41320448/45929032 bytes (90.0%)\b\b\b\b\b\b\b\b\b\b\b\b\b\b\b\b\b\b\b\b\b\b\b\b\b\b\b\b\b\b\b44580864/45929032 bytes (97.1%)\b\b\b\b\b\b\b\b\b\b\b\b\b\b\b\b\b\b\b\b\b\b\b\b\b\b\b\b\b\b\b45929032/45929032 bytes (100.0%)\n",
            "  Done\n",
            "File saved as /root/.imageio/ffmpeg/ffmpeg-linux64-v3.3.1.\n"
          ]
        }
      ]
    },
    {
      "cell_type": "markdown",
      "metadata": {
        "id": "3pp5IzH1mCB8"
      },
      "source": [
        "YouTube class to hold all the video data"
      ]
    },
    {
      "cell_type": "code",
      "metadata": {
        "id": "Ec5taw680UjW"
      },
      "source": [
        "PATH = \"/content/\"\n",
        "API_KEY = None"
      ],
      "execution_count": null,
      "outputs": []
    },
    {
      "cell_type": "code",
      "metadata": {
        "id": "BdioCKZGnnuc"
      },
      "source": [
        "# This class holds all the video data\n",
        "class YoutubeStats:\n",
        "    def __init__(self, url, id):\n",
        "        #You can use the youtube data api v3 by uncommenting the following 3 lines and passing an API key to the class \n",
        "        #callUrl = f\"https://www.googleapis.com/youtube/v3/videos?part=snippet&id={id}&key={API_KEY}\"\n",
        "        #self.respose = requests.get(callUrl)\n",
        "        #self.data = json.loads(self.respose.text)\n",
        "        try:\n",
        "            self.captionData = YouTubeTranscriptApi.get_transcript(id)\n",
        "        except:\n",
        "            self.captionData = None\n",
        "\n",
        "        self.url = url\n",
        "        self.id = id\n",
        "        self.title = self.getVideoTitle()\n",
        "\n",
        "    def printData(self):\n",
        "        print(self.data)\n",
        "\n",
        "    def getURL(self):\n",
        "        return self.url\n",
        "    \n",
        "    def getID(self):\n",
        "        return self.id\n",
        "\n",
        "    # Returns the video title\n",
        "    def getVideoTitle(self):\n",
        "        source = requests.get(self.url).text\n",
        "        soup = BeautifulSoup(source,'html.parser')\n",
        "        Title = soup.title.text\n",
        "        print(Title)\n",
        "        Title = Title[:-10] \n",
        "        return Title\n",
        "\n",
        "    # Returns the video description as a string\n",
        "    def getVideoDescription(self):\n",
        "        return self.data[\"items\"][0][\"snippet\"][\"description\"]\n",
        "\n",
        "    # Downloads the video from youtube with 360p resolution\n",
        "    # given the video URL and the name of the file\n",
        "    def downloadVideo(self):\n",
        "        path = PATH + 'videos'\n",
        "        title = reNameTitle(self.title) + \".mp4\"\n",
        "        print(\"title ........... \", title)\n",
        "        YouTube(self.url).streams.first().download(output_path=path, filename=title)\n",
        "\n",
        "    # Coverts video from mp4 to mp3 given the name of\n",
        "    # the file and the type of the output file eg: mp3, wav\n",
        "    def convertVideoToSound(self, type=\"wav\"):\n",
        "        VideoPath = PATH + 'videos/'\n",
        "        path = PATH + 'audio/'\n",
        "        title = reNameTitle(self.title)\n",
        "        video = VideoFileClip(VideoPath + title + '.mp4')\n",
        "        video.audio.write_audiofile(path + title + '.' + type)\n",
        "\n",
        "    # Returns the video transcript as a dictionary with times\n",
        "    def getVideoTranscript(self):\n",
        "        return self.captionData\n",
        "\n",
        "    # Return the video transcript as a string\n",
        "    def getVideoTranscriptString(self):\n",
        "        transcript = \"\"\n",
        "        addNewLine = False\n",
        "        for caption in self.captionData:\n",
        "            if addNewLine:\n",
        "                transcript += str(caption[\"text\"] + \"\\n\")\n",
        "                addNewLine = False\n",
        "            else:\n",
        "                transcript += str(caption[\"text\"] + \" \")\n",
        "                addNewLine = True\n",
        "        return transcript\n",
        "    \n",
        "    def writeToJsonFile(self):\n",
        "        path = PATH + 'json_scripts'\n",
        "        i = 0\n",
        "        title = self.title\n",
        "        transcript = self.getVideoTranscript()\n",
        "        print(\"{0} Writing to json file...\".format(i+1))\n",
        "        i+=1\n",
        "        with open(path + '/'f\"{reNameTitle(title)}.json\", \"w\") as file:\n",
        "            json.dump(transcript, file)\n",
        "    def writeTranscriptFile(self):\n",
        "        path = PATH + 'transcripts'\n",
        "        i = 0\n",
        "        title = self.title\n",
        "        transcript = self.getVideoTranscriptString()\n",
        "        print(\"{0} Writing to transcript file...\".format(i+1))\n",
        "        i+=1\n",
        "        with open(path + '/'f\"{reNameTitle(title)}_transcript.txt\", \"w\") as file:\n",
        "            file.write(transcript)\n"
      ],
      "execution_count": null,
      "outputs": []
    },
    {
      "cell_type": "markdown",
      "metadata": {
        "id": "ezTPsPBmyPwn"
      },
      "source": [
        "Supporting Functions"
      ]
    },
    {
      "cell_type": "code",
      "metadata": {
        "id": "LY1Y1p_9yPXG"
      },
      "source": [
        "# This function create a file for every video\n",
        "# and it assigns the file name to the title of\n",
        "# that video. It then writes the title, description\n",
        "# and the transcript to the file\n",
        "def writeToVideoFile(youtubeStats):\n",
        "    path = createDirectory('video_scripts')\n",
        "    i = 0\n",
        "    for stats in youtubeStats:\n",
        "        title = stats.title\n",
        "        #description = stats.getVideoDescription()\n",
        "        transcript = stats.getVideoTranscriptString()\n",
        "        print(\"{0} Writing to file...\".format(i+1))\n",
        "        i+=1\n",
        "        with open(path + '/'f\"{reNameTitle(title)}.txt\", \"w\") as file:\n",
        "            file.write(\"Title\\n\\n\" + title)\n",
        "            file.write(\n",
        "                \"\\n--------------------------------------------------------------------\\n\")\n",
        "            #file.write(\"\\nDescription\\n\\n\" + description)\n",
        "            #file.write(\n",
        "            #    \"\\n\\n--------------------------------------------------------------------\\n\")\n",
        "            file.write(\"\\nTranscript\\n\\n\" + transcript)\n",
        "            file.write(\n",
        "                \"\\n--------------------------------------------------------------------\\n\")"
      ],
      "execution_count": null,
      "outputs": []
    },
    {
      "cell_type": "code",
      "metadata": {
        "id": "2E0MWRlLzsXd"
      },
      "source": [
        "def writeAllToJsonFile(youtubeStats):\n",
        "    path = createDirectory('Json_scripts')\n",
        "    i = 0\n",
        "    for stats in youtubeStats:\n",
        "        title = stats.title\n",
        "        transcript = stats.getVideoTranscript()\n",
        "        print(\"{0} Writing to json file...\".format(i+1))\n",
        "        i+=1\n",
        "        with open(path + '/'f\"{reNameTitle(title)}.json\", \"w\") as file:\n",
        "            json.dump(transcript, file)"
      ],
      "execution_count": null,
      "outputs": []
    },
    {
      "cell_type": "code",
      "metadata": {
        "id": "2Mm6fRZRzsPv"
      },
      "source": [
        "#download all the videos in the input file\n",
        "def downloadAllVideos(youtubeStats):\n",
        "    createDirectory('videos')   \n",
        "    i = 0\n",
        "    for stats in youtubeStats:\n",
        "        print(\"{0} Downloading...\".format(i+1))\n",
        "        i+=1\n",
        "        stats.downloadVideo(stats.getURL(), stats.title) "
      ],
      "execution_count": null,
      "outputs": []
    },
    {
      "cell_type": "code",
      "metadata": {
        "id": "BbCO5UgdzsJy"
      },
      "source": [
        "def convertAllVideosToSound(youtubeStats):\n",
        "    createDirectory('audio')\n",
        "    for stats in youtubeStats:\n",
        "        stats.convertVideoToSound(stats.title, 'wav')\n"
      ],
      "execution_count": null,
      "outputs": []
    },
    {
      "cell_type": "code",
      "metadata": {
        "id": "1LEYPTaUzsEA"
      },
      "source": [
        "# Helper function to rename the file\n",
        "def reNameTitle(title):\n",
        "    title = re.sub('[\\W_]+', \"_\", title)\n",
        "    return title.lower()"
      ],
      "execution_count": null,
      "outputs": []
    },
    {
      "cell_type": "code",
      "metadata": {
        "id": "uzu89Tfbzr70"
      },
      "source": [
        "# Helper function to create a directory\n",
        "def createDirectory(name):\n",
        "    path = PATH + name\n",
        "    try:\n",
        "        os.mkdir(path)\n",
        "    except OSError:\n",
        "        print (\"Creation of the directory %s failed\" % path)\n",
        "    else:\n",
        "        print (\"Successfully created the directory %s \" % path)"
      ],
      "execution_count": null,
      "outputs": []
    },
    {
      "cell_type": "code",
      "metadata": {
        "id": "iDC71gDBFiTB"
      },
      "source": [
        "def converYoutubeLinkToId(link):\n",
        "  return link.split(\"=\", 1)[1].strip()"
      ],
      "execution_count": null,
      "outputs": []
    },
    {
      "cell_type": "code",
      "metadata": {
        "id": "wPY01u4_z4EK"
      },
      "source": [
        "# Reads a list of URLs from a given file\n",
        "# and parses them to video IDs.\n",
        "# Returns a list of URLs and video IDs\n",
        "def readFile():\n",
        "    videoIds = []\n",
        "    urls = []\n",
        "    fileName = \"testLinks.txt\"\n",
        "    path = PATH\n",
        "    with open(path+fileName, \"r\") as file:\n",
        "        for line in file:\n",
        "            videoIds.append(line.split(\"=\", 1)[1].strip())\n",
        "            urls.append(line.strip())\n",
        "    return videoIds, urls"
      ],
      "execution_count": null,
      "outputs": []
    },
    {
      "cell_type": "markdown",
      "metadata": {
        "id": "_Q9XQjgmzAoO"
      },
      "source": [
        "Main"
      ]
    },
    {
      "cell_type": "code",
      "metadata": {
        "id": "E0oYwjZBzASG"
      },
      "source": [
        "def main():\n",
        "    #Reading all the urls from the file\n",
        "    videoIds, urls = readFile()\n",
        "    createDirectory('json_scripts')\n",
        "    createDirectory('audio')\n",
        "    createDirectory('videos')\n",
        "    createDirectory('transcripts')\n",
        "    \n",
        "    for i, id in enumerate(videoIds):\n",
        "        temp=YoutubeStats(urls[i], id)\n",
        "        if(temp.captionData is None):\n",
        "            continue\n",
        "        #temp.downloadVideo()\n",
        "        #temp.convertVideoToSound()\n",
        "        #temp.writeToJsonFile()\n",
        "        temp.writeTranscriptFile()\n",
        "       # temp.writeToVideoFile()"
      ],
      "execution_count": null,
      "outputs": []
    },
    {
      "cell_type": "code",
      "metadata": {
        "id": "bEbuA2pVFXdR"
      },
      "source": [
        "#https://www.youtube.com/watch?v=qfXMkt67mqM\n",
        "videoURL = input(\"Enter the Youtube video link: \")\n",
        "videoId = converYoutubeLinkToId(videoURL)\n",
        "youtubeStats = YoutubeStats(videoURL, videoId)\n",
        "print(youtubeStats.getVideoTranscriptString())"
      ],
      "execution_count": null,
      "outputs": []
    },
    {
      "cell_type": "code",
      "metadata": {
        "id": "UwryGdNu16p8"
      },
      "source": [
        "# !rm -r dir1 audio\n",
        "# !rm -r dir1 videos\n",
        "# !rm -r dir1 Json_scripts  \n",
        "#!rm -r dir1 transcripts  "
      ],
      "execution_count": null,
      "outputs": []
    }
  ]
}